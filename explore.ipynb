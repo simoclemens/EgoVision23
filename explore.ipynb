{
 "cells": [
  {
   "cell_type": "code",
   "execution_count": null,
   "outputs": [],
   "source": [
    "import pickle\n",
    "import pandas as pd\n",
    "\n",
    "featuresRGB = pd.read_pickle('saved_features/featuresRGB.pkl')\n",
    "featuresEMG = pd.read_pickle('saved_features/featuresEMG.pkl')\n",
    "\n",
    "\n",
    "for elem1 in featuresRGB['features']:\n",
    "    for elem2 in featuresEMG['features']:\n",
    "        if elem1['uid'] == elem2['uid']:\n",
    "            elem1['features_EMG'] = elem2['features_EMG']\n",
    "            elem1['label'] = elem2['label']\n",
    "            elem1['label_code'] = elem2['label_code']\n",
    "\n",
    "print(featuresRGB['features'][0])\n",
    "\n",
    "file = open('saved_features/features.pkl','wb')\n",
    "pickle.dump(featuresRGB,file)"
   ],
   "metadata": {
    "collapsed": false
   }
  },
  {
   "cell_type": "code",
   "execution_count": 6,
   "metadata": {
    "collapsed": true,
    "ExecuteTime": {
     "end_time": "2023-06-02T08:05:02.129572900Z",
     "start_time": "2023-06-02T08:05:01.301120500Z"
    }
   },
   "outputs": [
    {
     "name": "stdout",
     "output_type": "stream",
     "text": [
      "DONE\n"
     ]
    }
   ],
   "source": [
    "import random\n",
    "import pickle\n",
    "import pandas as pd\n",
    "\n",
    "test_indexes = random.sample(range(365),73)\n",
    "\n",
    "test_annotations = pd.DataFrame(columns=['uid', 'label', 'verb_class'])\n",
    "train_annotations = pd.DataFrame(columns=['uid', 'label', 'verb_class'])\n",
    "features = pd.read_pickle('saved_features/features_S04.pkl')\n",
    "for i in test_indexes:\n",
    "    elem = features['features'][i]\n",
    "    test_annotations.loc[len(test_annotations)] = [elem['uid'], elem['label'], elem['label_code']]\n",
    "\n",
    "for j in range(365):\n",
    "    if j not in test_indexes:\n",
    "        elem = features['features'][j]\n",
    "        train_annotations.loc[len(train_annotations)] = [elem['uid'], elem['label'], elem['label_code']]\n",
    "\n",
    "file = open('annotations1/S04_test.pkl','wb')\n",
    "pickle.dump(test_annotations,file)\n",
    "file.close()\n",
    "\n",
    "file = open('annotations1/S04_train.pkl','wb')\n",
    "pickle.dump(train_annotations,file)\n",
    "file.close()\n",
    "\n",
    "print('DONE')"
   ]
  },
  {
   "cell_type": "code",
   "execution_count": 10,
   "outputs": [
    {
     "name": "stdout",
     "output_type": "stream",
     "text": [
      "            uid  label\n",
      "verb_class            \n",
      "0            21     21\n",
      "1             7      7\n",
      "2             3      3\n",
      "3             5      5\n",
      "4             5      5\n",
      "5             1      1\n",
      "6             3      3\n",
      "7             2      2\n",
      "8             1      1\n",
      "10            1      1\n",
      "15            5      5\n",
      "16            4      4\n",
      "17            1      1\n",
      "18            4      4\n",
      "19           10     10\n",
      "            uid  label\n",
      "verb_class            \n",
      "0            67     67\n",
      "1            18     18\n",
      "2            28     28\n",
      "3            20     20\n",
      "4            28     28\n",
      "5            13     13\n",
      "6             5      5\n",
      "7             5      5\n",
      "8             6      6\n",
      "9             6      6\n",
      "10            4      4\n",
      "11            3      3\n",
      "12            3      3\n",
      "13            3      3\n",
      "14            3      3\n",
      "15           17     17\n",
      "16           13     13\n",
      "17            8      8\n",
      "18           17     17\n",
      "19           25     25\n"
     ]
    }
   ],
   "source": [
    "import pandas as pd\n",
    "train_annotations = pd.read_pickle('annotations/S04_train.pkl')\n",
    "test_annotations = pd.read_pickle('annotations/S04_test.pkl')\n",
    "\n",
    "grouped = test_annotations.groupby('verb_class').count()\n",
    "print(grouped)\n",
    "\n",
    "grouped = train_annotations.groupby('verb_class').count()\n",
    "print(grouped)"
   ],
   "metadata": {
    "collapsed": false,
    "ExecuteTime": {
     "end_time": "2023-06-02T08:19:20.933817700Z",
     "start_time": "2023-06-02T08:19:20.908821300Z"
    }
   }
  }
 ],
 "metadata": {
  "kernelspec": {
   "display_name": "Python 3",
   "language": "python",
   "name": "python3"
  },
  "language_info": {
   "codemirror_mode": {
    "name": "ipython",
    "version": 2
   },
   "file_extension": ".py",
   "mimetype": "text/x-python",
   "name": "python",
   "nbconvert_exporter": "python",
   "pygments_lexer": "ipython2",
   "version": "2.7.6"
  }
 },
 "nbformat": 4,
 "nbformat_minor": 0
}
